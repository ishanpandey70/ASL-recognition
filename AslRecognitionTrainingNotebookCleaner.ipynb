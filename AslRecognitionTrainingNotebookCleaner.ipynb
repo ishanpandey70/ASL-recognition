{
 "cells": [
  {
   "cell_type": "markdown",
   "metadata": {},
   "source": [
    "# Preprocessing of Data\n",
    "We will \n",
    "1. From the train dataframe , remove the label column and store it in y_train differently\n",
    "2. Delete the label column from train dataframe .\n",
    "3. Now we have train data frame which has only pixel data and we have a y_train dataframe which stores class of each of the corresponding indexed pictures \n"
   ]
  },
  {
   "cell_type": "markdown",
   "metadata": {},
   "source": []
  },
  {
   "cell_type": "code",
   "execution_count": 314,
   "metadata": {
    "execution": {
     "iopub.execute_input": "2023-04-17T23:39:30.688530Z",
     "iopub.status.busy": "2023-04-17T23:39:30.687782Z",
     "iopub.status.idle": "2023-04-17T23:39:32.298962Z",
     "shell.execute_reply": "2023-04-17T23:39:32.293542Z",
     "shell.execute_reply.started": "2023-04-17T23:39:30.688495Z"
    }
   },
   "outputs": [],
   "source": [
    "import pandas as pd\n",
    "\n",
    "train_df = pd.read_csv(\"/kaggle/input/sign-language-mnist/sign_mnist_train/sign_mnist_train.csv\")\n",
    "#Loading csv on the train_dataframe\n",
    "# print(train_df)"
   ]
  },
  {
   "cell_type": "code",
   "execution_count": 315,
   "metadata": {
    "execution": {
     "iopub.execute_input": "2023-04-17T23:39:32.310707Z",
     "iopub.status.busy": "2023-04-17T23:39:32.309914Z",
     "iopub.status.idle": "2023-04-17T23:39:32.941650Z",
     "shell.execute_reply": "2023-04-17T23:39:32.940591Z",
     "shell.execute_reply.started": "2023-04-17T23:39:32.310619Z"
    }
   },
   "outputs": [],
   "source": [
    "test_df = pd.read_csv(\"/kaggle/input/sign-language-mnist/sign_mnist_test/sign_mnist_test.csv\")\n",
    "#Loading csv on the test_dataframe\n",
    "# print(test_df)"
   ]
  },
  {
   "cell_type": "code",
   "execution_count": 316,
   "metadata": {
    "execution": {
     "iopub.execute_input": "2023-04-17T23:39:32.948948Z",
     "iopub.status.busy": "2023-04-17T23:39:32.946612Z",
     "iopub.status.idle": "2023-04-17T23:39:32.955830Z",
     "shell.execute_reply": "2023-04-17T23:39:32.954804Z",
     "shell.execute_reply.started": "2023-04-17T23:39:32.948905Z"
    }
   },
   "outputs": [],
   "source": [
    "y_train= train_df['label']\n",
    "# print(y_train)\n",
    "#prints only the label column "
   ]
  },
  {
   "cell_type": "code",
   "execution_count": 317,
   "metadata": {
    "execution": {
     "iopub.execute_input": "2023-04-17T23:39:32.964247Z",
     "iopub.status.busy": "2023-04-17T23:39:32.961830Z",
     "iopub.status.idle": "2023-04-17T23:39:32.974313Z",
     "shell.execute_reply": "2023-04-17T23:39:32.973277Z",
     "shell.execute_reply.started": "2023-04-17T23:39:32.964211Z"
    }
   },
   "outputs": [],
   "source": [
    "del train_df['label']\n",
    "# print(train_df)\n",
    "#After extracting label , we have updated train_df"
   ]
  },
  {
   "cell_type": "code",
   "execution_count": 318,
   "metadata": {
    "execution": {
     "iopub.execute_input": "2023-04-17T23:39:32.980865Z",
     "iopub.status.busy": "2023-04-17T23:39:32.978639Z",
     "iopub.status.idle": "2023-04-17T23:39:32.990962Z",
     "shell.execute_reply": "2023-04-17T23:39:32.989960Z",
     "shell.execute_reply.started": "2023-04-17T23:39:32.980829Z"
    }
   },
   "outputs": [
    {
     "name": "stdout",
     "output_type": "stream",
     "text": [
      "0         3\n",
      "1         6\n",
      "2         2\n",
      "3         2\n",
      "4        13\n",
      "         ..\n",
      "27450    13\n",
      "27451    23\n",
      "27452    18\n",
      "27453    17\n",
      "27454    23\n",
      "Name: label, Length: 27455, dtype: int64\n"
     ]
    }
   ],
   "source": [
    "print(y_train) #this is a series object \n",
    "# You can think of a Pandas Series as a single column of a DataFrame, with each element in the Series having a label (i.e., index) that identifies its position within the Series. Pandas Series also supports many of the same operations and methods as a DataFrame, such as slicing, filtering, and aggregation."
   ]
  },
  {
   "cell_type": "code",
   "execution_count": 319,
   "metadata": {
    "execution": {
     "iopub.execute_input": "2023-04-17T23:39:32.997660Z",
     "iopub.status.busy": "2023-04-17T23:39:32.995441Z",
     "iopub.status.idle": "2023-04-17T23:39:33.010863Z",
     "shell.execute_reply": "2023-04-17T23:39:33.009978Z",
     "shell.execute_reply.started": "2023-04-17T23:39:32.997625Z"
    }
   },
   "outputs": [],
   "source": [
    "y_test =test_df['label']\n",
    "del test_df['label']\n",
    "\n",
    "\n",
    "\n"
   ]
  },
  {
   "cell_type": "markdown",
   "metadata": {},
   "source": [
    "Now I have train_df , test_df with corresponding labels in y_train and y_test"
   ]
  },
  {
   "cell_type": "markdown",
   "metadata": {},
   "source": [
    "Next Goal is to make a validation set from train_df\n"
   ]
  },
  {
   "cell_type": "code",
   "execution_count": 320,
   "metadata": {
    "execution": {
     "iopub.execute_input": "2023-04-17T23:39:33.017008Z",
     "iopub.status.busy": "2023-04-17T23:39:33.014811Z",
     "iopub.status.idle": "2023-04-17T23:39:33.372882Z",
     "shell.execute_reply": "2023-04-17T23:39:33.370031Z",
     "shell.execute_reply.started": "2023-04-17T23:39:33.016970Z"
    }
   },
   "outputs": [],
   "source": [
    "from sklearn.model_selection import train_test_split\n",
    "#Splitting so that 1/4th goes to validation\n",
    "\n",
    "train_df,val_df, y_train, y_val = train_test_split(train_df, y_train, test_size=0.25, random_state=4) "
   ]
  },
  {
   "cell_type": "code",
   "execution_count": 321,
   "metadata": {
    "execution": {
     "iopub.execute_input": "2023-04-17T23:39:33.374724Z",
     "iopub.status.busy": "2023-04-17T23:39:33.374174Z",
     "iopub.status.idle": "2023-04-17T23:39:33.391166Z",
     "shell.execute_reply": "2023-04-17T23:39:33.390057Z",
     "shell.execute_reply.started": "2023-04-17T23:39:33.374665Z"
    }
   },
   "outputs": [
    {
     "name": "stdout",
     "output_type": "stream",
     "text": [
      "       pixel1  pixel2  pixel3  pixel4  pixel5  pixel6  pixel7  pixel8  pixel9  \\\n",
      "9182       75      80      92     102     108     113     118     122     123   \n",
      "8587      177     179     180     181     184     186     187     188     188   \n",
      "7799       84      93     100     103     106     111     117     120     122   \n",
      "8842      107     110     117     122     125     124     142     135     133   \n",
      "8446      179     179     183     183     184     185     184     184     184   \n",
      "...       ...     ...     ...     ...     ...     ...     ...     ...     ...   \n",
      "22401     100     102     106     111     115     117     119     123     124   \n",
      "17093     195     194     194     194     196     197     198     198     196   \n",
      "27063      96     101     105     108     114     121     138     147     154   \n",
      "8366      118     121     125     129     132     134     137     139     140   \n",
      "17530     192     197     200     201     202     204     207     210     211   \n",
      "\n",
      "       pixel10  ...  pixel775  pixel776  pixel777  pixel778  pixel779  \\\n",
      "9182       125  ...       146       169       165       168       169   \n",
      "8587       189  ...       209       209       207       207       207   \n",
      "7799       125  ...       181       180       179       178       176   \n",
      "8842       141  ...        10        21        44        10         0   \n",
      "8446       184  ...       212       213       212       212       212   \n",
      "...        ...  ...       ...       ...       ...       ...       ...   \n",
      "22401      125  ...       171       166       167       164       163   \n",
      "17093      196  ...       131       103       145       162       174   \n",
      "27063      161  ...       149        73        69        46        58   \n",
      "8366       141  ...        78        79        76        82        84   \n",
      "17530      209  ...        65        62        68        78        90   \n",
      "\n",
      "       pixel780  pixel781  pixel782  pixel783  pixel784  \n",
      "9182        169       170       170       170       170  \n",
      "8587        206       206       204       203       201  \n",
      "7799        175       174       173       172       168  \n",
      "8842         24        38        30        26        24  \n",
      "8446        212       212       210       210       209  \n",
      "...         ...       ...       ...       ...       ...  \n",
      "22401       163       161       161       159       157  \n",
      "17093       187       201       177       169       179  \n",
      "27063        62        60        63        58        59  \n",
      "8366         78        82        77        55        38  \n",
      "17530       104       101       121       103        61  \n",
      "\n",
      "[20591 rows x 784 columns]\n"
     ]
    }
   ],
   "source": [
    "print(train_df)\n",
    "#about 20591 pics"
   ]
  },
  {
   "cell_type": "code",
   "execution_count": 322,
   "metadata": {
    "execution": {
     "iopub.execute_input": "2023-04-17T23:39:33.393361Z",
     "iopub.status.busy": "2023-04-17T23:39:33.392988Z",
     "iopub.status.idle": "2023-04-17T23:39:33.411198Z",
     "shell.execute_reply": "2023-04-17T23:39:33.410165Z",
     "shell.execute_reply.started": "2023-04-17T23:39:33.393323Z"
    }
   },
   "outputs": [
    {
     "name": "stdout",
     "output_type": "stream",
     "text": [
      "      pixel1  pixel2  pixel3  pixel4  pixel5  pixel6  pixel7  pixel8  pixel9  \\\n",
      "0        149     149     150     150     150     151     151     150     151   \n",
      "1        126     128     131     132     133     134     135     135     136   \n",
      "2         85      88      92      96     105     123     135     143     147   \n",
      "3        203     205     207     206     207     209     210     209     210   \n",
      "4        188     191     193     195     199     201     202     203     203   \n",
      "...      ...     ...     ...     ...     ...     ...     ...     ...     ...   \n",
      "7167     135     119     108     102     105      99      61     103     121   \n",
      "7168     157     159     161     164     166     166     171     174     175   \n",
      "7169     190     191     190     191     190     190     192     192     191   \n",
      "7170     201     205     208     209     214     216     218     223     226   \n",
      "7171     173     174     173     174     173     173     175     175     174   \n",
      "\n",
      "      pixel10  ...  pixel775  pixel776  pixel777  pixel778  pixel779  \\\n",
      "0         152  ...       138       148       127        89        82   \n",
      "1         138  ...        47       104       194       183       186   \n",
      "2         152  ...        68       166       242       227       230   \n",
      "3         209  ...       154       248       247       248       253   \n",
      "4         203  ...        26        40        64        48        29   \n",
      "...       ...  ...       ...       ...       ...       ...       ...   \n",
      "7167      133  ...       108       112       116       114       118   \n",
      "7168      176  ...       213       213       213       214       213   \n",
      "7169      192  ...       216       215       213       214       214   \n",
      "7170      229  ...       112       169       255       255       237   \n",
      "7171      175  ...       201       200       197       198       198   \n",
      "\n",
      "      pixel780  pixel781  pixel782  pixel783  pixel784  \n",
      "0           96       106       112       120       107  \n",
      "1          184       184       184       182       180  \n",
      "2          227       226       225       224       222  \n",
      "3          236       230       240       253       255  \n",
      "4           46        49        46        46        53  \n",
      "...        ...       ...       ...       ...       ...  \n",
      "7167       180       184       176       167       163  \n",
      "7168       211       210       210       209       208  \n",
      "7169       213       210       211       209       208  \n",
      "7170       113        91        67        70        63  \n",
      "7171       197       195       195       193       192  \n",
      "\n",
      "[7172 rows x 784 columns]\n"
     ]
    }
   ],
   "source": [
    "print(test_df)\n",
    "#about 7172 in test"
   ]
  },
  {
   "cell_type": "code",
   "execution_count": 323,
   "metadata": {
    "execution": {
     "iopub.execute_input": "2023-04-17T23:39:33.415679Z",
     "iopub.status.busy": "2023-04-17T23:39:33.415400Z",
     "iopub.status.idle": "2023-04-17T23:39:33.427703Z",
     "shell.execute_reply": "2023-04-17T23:39:33.426495Z",
     "shell.execute_reply.started": "2023-04-17T23:39:33.415654Z"
    }
   },
   "outputs": [
    {
     "name": "stdout",
     "output_type": "stream",
     "text": [
      "       pixel1  pixel2  pixel3  pixel4  pixel5  pixel6  pixel7  pixel8  pixel9  \\\n",
      "478        63      74      85      96     110     120     125     129     134   \n",
      "23923     145     146     145     145     145     144     144     144     144   \n",
      "22854     119     127     136     144     147     149     153     160     165   \n",
      "22740     183     184     186     186     187     188     188     188     189   \n",
      "12392     191     193     196     198     200     201     203     205     206   \n",
      "...       ...     ...     ...     ...     ...     ...     ...     ...     ...   \n",
      "1490      199     198     197     198     199     199     199     199     200   \n",
      "12613     142     144     146     147     148     150     152     155     156   \n",
      "867       152     154     157     161     161     161     161     162     163   \n",
      "22398     140     149     158     162     164     168     175     181     185   \n",
      "22322     173     173     175     177     179     180     180     180     182   \n",
      "\n",
      "       pixel10  ...  pixel775  pixel776  pixel777  pixel778  pixel779  \\\n",
      "478        137  ...       142       123        97        90       147   \n",
      "23923      143  ...       153       151       151       150       149   \n",
      "22854      170  ...       229       150        97        86        78   \n",
      "22740      189  ...       146       107        71        81       202   \n",
      "12392      206  ...       159       169       132        95        87   \n",
      "...        ...  ...       ...       ...       ...       ...       ...   \n",
      "1490       199  ...       237       236       235       235       235   \n",
      "12613      157  ...       177       179       180       181       181   \n",
      "867        164  ...       169       232       220       223       221   \n",
      "22398      191  ...        91        87        93       116       130   \n",
      "22322      181  ...       158       202       200       197       196   \n",
      "\n",
      "       pixel780  pixel781  pixel782  pixel783  pixel784  \n",
      "478         185       187       188       189       189  \n",
      "23923       148       146       146       146       143  \n",
      "22854        71        70        69        69        66  \n",
      "22740       204       197       184       203       223  \n",
      "12392        83        73        76        81        58  \n",
      "...         ...       ...       ...       ...       ...  \n",
      "1490        233       233       233       231       229  \n",
      "12613       181       180       181       182       183  \n",
      "867         222       201       160       115        93  \n",
      "22398       128       129       130       131       132  \n",
      "22322       199       202       183       146       169  \n",
      "\n",
      "[6864 rows x 784 columns]\n"
     ]
    }
   ],
   "source": [
    "print(val_df)\n",
    "#about 6864 in validation dataset"
   ]
  },
  {
   "cell_type": "code",
   "execution_count": 324,
   "metadata": {
    "execution": {
     "iopub.execute_input": "2023-04-17T23:39:33.429806Z",
     "iopub.status.busy": "2023-04-17T23:39:33.429061Z",
     "iopub.status.idle": "2023-04-17T23:39:33.446033Z",
     "shell.execute_reply": "2023-04-17T23:39:33.445130Z",
     "shell.execute_reply.started": "2023-04-17T23:39:33.429770Z"
    }
   },
   "outputs": [],
   "source": [
    "from sklearn.preprocessing import LabelBinarizer\n",
    "label_binarizer = LabelBinarizer()\n",
    "y_train = label_binarizer.fit_transform(y_train)\n",
    "y_test = label_binarizer.fit_transform(y_test)\n",
    "y_val = label_binarizer.fit_transform(y_val)"
   ]
  },
  {
   "cell_type": "code",
   "execution_count": 325,
   "metadata": {
    "execution": {
     "iopub.execute_input": "2023-04-17T23:39:33.447769Z",
     "iopub.status.busy": "2023-04-17T23:39:33.447303Z",
     "iopub.status.idle": "2023-04-17T23:39:33.454114Z",
     "shell.execute_reply": "2023-04-17T23:39:33.452911Z",
     "shell.execute_reply.started": "2023-04-17T23:39:33.447730Z"
    }
   },
   "outputs": [
    {
     "name": "stdout",
     "output_type": "stream",
     "text": [
      "[[0 0 0 ... 0 0 0]\n",
      " [0 0 0 ... 0 0 0]\n",
      " [0 0 0 ... 0 0 0]\n",
      " ...\n",
      " [0 0 0 ... 0 0 0]\n",
      " [0 1 0 ... 0 0 0]\n",
      " [0 0 0 ... 0 0 0]]\n"
     ]
    }
   ],
   "source": [
    "print(y_train)"
   ]
  },
  {
   "cell_type": "code",
   "execution_count": 326,
   "metadata": {
    "execution": {
     "iopub.execute_input": "2023-04-17T23:39:33.456701Z",
     "iopub.status.busy": "2023-04-17T23:39:33.455917Z",
     "iopub.status.idle": "2023-04-17T23:39:33.463932Z",
     "shell.execute_reply": "2023-04-17T23:39:33.462774Z",
     "shell.execute_reply.started": "2023-04-17T23:39:33.456621Z"
    }
   },
   "outputs": [
    {
     "name": "stdout",
     "output_type": "stream",
     "text": [
      "[[0 0 0 ... 0 0 0]\n",
      " [0 0 0 ... 0 0 0]\n",
      " [0 0 0 ... 0 0 0]\n",
      " ...\n",
      " [0 0 1 ... 0 0 0]\n",
      " [0 0 0 ... 0 0 0]\n",
      " [0 0 1 ... 0 0 0]]\n"
     ]
    }
   ],
   "source": [
    "print(y_test)"
   ]
  },
  {
   "cell_type": "code",
   "execution_count": 327,
   "metadata": {
    "execution": {
     "iopub.execute_input": "2023-04-17T23:39:33.465950Z",
     "iopub.status.busy": "2023-04-17T23:39:33.465443Z",
     "iopub.status.idle": "2023-04-17T23:39:33.472364Z",
     "shell.execute_reply": "2023-04-17T23:39:33.471235Z",
     "shell.execute_reply.started": "2023-04-17T23:39:33.465773Z"
    }
   },
   "outputs": [
    {
     "name": "stdout",
     "output_type": "stream",
     "text": [
      "[[0 0 0 ... 1 0 0]\n",
      " [1 0 0 ... 0 0 0]\n",
      " [0 0 0 ... 0 0 0]\n",
      " ...\n",
      " [0 0 0 ... 0 0 0]\n",
      " [0 0 0 ... 0 0 0]\n",
      " [1 0 0 ... 0 0 0]]\n"
     ]
    }
   ],
   "source": [
    "print(y_val)"
   ]
  },
  {
   "cell_type": "code",
   "execution_count": 328,
   "metadata": {
    "execution": {
     "iopub.execute_input": "2023-04-17T23:39:33.474586Z",
     "iopub.status.busy": "2023-04-17T23:39:33.474158Z",
     "iopub.status.idle": "2023-04-17T23:39:33.480780Z",
     "shell.execute_reply": "2023-04-17T23:39:33.479328Z",
     "shell.execute_reply.started": "2023-04-17T23:39:33.474537Z"
    }
   },
   "outputs": [],
   "source": [
    "# print(test_df)\n",
    "# arr = test_df.values\n",
    "\n"
   ]
  },
  {
   "cell_type": "code",
   "execution_count": 329,
   "metadata": {
    "execution": {
     "iopub.execute_input": "2023-04-17T23:39:33.482889Z",
     "iopub.status.busy": "2023-04-17T23:39:33.482425Z",
     "iopub.status.idle": "2023-04-17T23:39:33.489164Z",
     "shell.execute_reply": "2023-04-17T23:39:33.487987Z",
     "shell.execute_reply.started": "2023-04-17T23:39:33.482853Z"
    }
   },
   "outputs": [],
   "source": [
    "# import matplotlib.pyplot as plt\n",
    "# for a in arr:\n",
    "#     img = a.reshape(28, 28)\n",
    "#     plt.imshow(img, cmap ='gray')\n",
    "#     plt.show()\n",
    "# print( arr)"
   ]
  },
  {
   "cell_type": "code",
   "execution_count": 330,
   "metadata": {
    "execution": {
     "iopub.execute_input": "2023-04-17T23:39:33.491752Z",
     "iopub.status.busy": "2023-04-17T23:39:33.490602Z",
     "iopub.status.idle": "2023-04-17T23:39:33.498407Z",
     "shell.execute_reply": "2023-04-17T23:39:33.497531Z",
     "shell.execute_reply.started": "2023-04-17T23:39:33.491715Z"
    }
   },
   "outputs": [],
   "source": [
    "# print(type(y_test))"
   ]
  },
  {
   "cell_type": "code",
   "execution_count": 331,
   "metadata": {
    "execution": {
     "iopub.execute_input": "2023-04-17T23:39:33.500317Z",
     "iopub.status.busy": "2023-04-17T23:39:33.499870Z",
     "iopub.status.idle": "2023-04-17T23:39:33.543239Z",
     "shell.execute_reply": "2023-04-17T23:39:33.542183Z",
     "shell.execute_reply.started": "2023-04-17T23:39:33.500281Z"
    }
   },
   "outputs": [],
   "source": [
    "\n",
    "# y_train and y_test are pandas series which have my labels corresponding to each of the 7171 pictures\n",
    "#\n",
    "\n",
    "x_train = train_df.values\n",
    "#.values returns numpy representation  of the data of train_df\n",
    "\n",
    "x_test = test_df.values\n",
    "\n",
    "#.values returns numpy representation of the data of test_df\n",
    "x_val = val_df.values\n",
    "#validation dataset numpy representation\n"
   ]
  },
  {
   "cell_type": "code",
   "execution_count": 332,
   "metadata": {
    "execution": {
     "iopub.execute_input": "2023-04-17T23:39:33.545225Z",
     "iopub.status.busy": "2023-04-17T23:39:33.544871Z",
     "iopub.status.idle": "2023-04-17T23:39:33.553447Z",
     "shell.execute_reply": "2023-04-17T23:39:33.552240Z",
     "shell.execute_reply.started": "2023-04-17T23:39:33.545187Z"
    }
   },
   "outputs": [
    {
     "name": "stdout",
     "output_type": "stream",
     "text": [
      "[[149 149 150 ... 112 120 107]\n",
      " [126 128 131 ... 184 182 180]\n",
      " [ 85  88  92 ... 225 224 222]\n",
      " ...\n",
      " [190 191 190 ... 211 209 208]\n",
      " [201 205 208 ...  67  70  63]\n",
      " [173 174 173 ... 195 193 192]]\n",
      "[[ 75  80  92 ... 170 170 170]\n",
      " [177 179 180 ... 204 203 201]\n",
      " [ 84  93 100 ... 173 172 168]\n",
      " ...\n",
      " [ 96 101 105 ...  63  58  59]\n",
      " [118 121 125 ...  77  55  38]\n",
      " [192 197 200 ... 121 103  61]]\n",
      "[[ 63  74  85 ... 188 189 189]\n",
      " [145 146 145 ... 146 146 143]\n",
      " [119 127 136 ...  69  69  66]\n",
      " ...\n",
      " [152 154 157 ... 160 115  93]\n",
      " [140 149 158 ... 130 131 132]\n",
      " [173 173 175 ... 183 146 169]]\n"
     ]
    }
   ],
   "source": [
    "#We can verify the types of x_train and x_test below\n",
    "print(x_test)\n",
    "print(x_train)\n",
    "print(x_val)\n",
    "\n",
    "#You will find that they are numpy arrays , these will be used in our model "
   ]
  },
  {
   "cell_type": "code",
   "execution_count": 333,
   "metadata": {
    "execution": {
     "iopub.execute_input": "2023-04-17T23:39:33.556231Z",
     "iopub.status.busy": "2023-04-17T23:39:33.555381Z",
     "iopub.status.idle": "2023-04-17T23:39:33.639398Z",
     "shell.execute_reply": "2023-04-17T23:39:33.638052Z",
     "shell.execute_reply.started": "2023-04-17T23:39:33.556184Z"
    }
   },
   "outputs": [],
   "source": [
    "# When you divide the pixel values of an image by 255, you are normalizing the values so that they are in the range of 0 to 1.\n",
    "\n",
    "# In the context of image processing and computer vision, pixel values typically range from 0 to 255, where 0 represents black and 255 represents white. By dividing the pixel values by 255, you are essentially scaling the values down so that they are between 0 and 1, with 0 representing black and 1 representing white. This can be useful because it ensures that all pixel values are within the same range and prevents issues related to the relative magnitudes of the pixel values.\n",
    "\n",
    "# In addition to standardizing the pixel values, normalizing the pixel values by dividing by 255 can also make it easier for machine learning algorithms to converge during training. Many optimization algorithms used in machine learning work best when the input features are roughly in the same range, so normalizing the pixel values can help improve the performance of machine learning algorithms applied to image data.\n",
    "# The line x_train = x_train.reshape(-1,28,28,1) reshapes the x_train NumPy array to a 4-dimensional array of shape (num_samples, 28, 28, 1), where num_samples is the total number of training samples.\n",
    "\n",
    "# -1 is a placeholder for the number of training samples, which will be inferred based on the size of the original array.\n",
    "# 28 and 28 represent the height and width of the images, respectively.\n",
    "# 1 represents the number of color channels, which is 1 for grayscale images and 3 for RGB images.\n",
    "# In other words, this line of code reshapes the flattened 1D array of pixels for each image into a 2D matrix of shape (28, 28) and adds a third dimension to represent the single grayscale color channel. This is the format that many machine learning models, such as convolutional neural networks, expect as input.\n",
    "#normalizing the values\n",
    "x_train = x_train / 255\n",
    "x_test = x_test / 255\n",
    "x_val = x_val/255\n",
    "\n",
    "x_train = x_train.reshape(-1,28,28,1)\n",
    "x_test = x_test.reshape(-1,28,28,1)\n",
    "x_val = x_val.reshape(-1,28,28,1)\n"
   ]
  },
  {
   "cell_type": "code",
   "execution_count": null,
   "metadata": {},
   "outputs": [],
   "source": []
  },
  {
   "cell_type": "code",
   "execution_count": 334,
   "metadata": {
    "execution": {
     "iopub.execute_input": "2023-04-17T23:39:33.641520Z",
     "iopub.status.busy": "2023-04-17T23:39:33.641052Z",
     "iopub.status.idle": "2023-04-17T23:39:33.647952Z",
     "shell.execute_reply": "2023-04-17T23:39:33.646907Z",
     "shell.execute_reply.started": "2023-04-17T23:39:33.641482Z"
    }
   },
   "outputs": [],
   "source": [
    "#importing libraries\n",
    "import matplotlib.pyplot as plt\n",
    "import seaborn as sns\n",
    "import keras\n",
    "from keras.models import Sequential\n",
    "from keras.layers import Dense, Conv2D , MaxPool2D , Flatten , Dropout , BatchNormalization\n",
    "from keras.preprocessing.image import ImageDataGenerator\n",
    "from sklearn.model_selection import train_test_split\n",
    "from sklearn.metrics import classification_report,confusion_matrix\n",
    "from keras.callbacks import ReduceLROnPlateau\n",
    "import pandas as pd\n"
   ]
  },
  {
   "cell_type": "code",
   "execution_count": 335,
   "metadata": {
    "execution": {
     "iopub.execute_input": "2023-04-17T23:39:33.650215Z",
     "iopub.status.busy": "2023-04-17T23:39:33.649517Z",
     "iopub.status.idle": "2023-04-17T23:39:33.661026Z",
     "shell.execute_reply": "2023-04-17T23:39:33.660061Z",
     "shell.execute_reply.started": "2023-04-17T23:39:33.650167Z"
    }
   },
   "outputs": [],
   "source": [
    "# #Data augmentation by just shifting images , zooming and rotating .\n",
    "#Future work could be to make horizontal flip too.\n",
    "# datagen = ImageDataGenerator(\n",
    "#         featurewise_center=False,\n",
    "#         samplewise_center=False, \n",
    "#         featurewise_std_normalization=False,\n",
    "#         samplewise_std_normalization=False,\n",
    "#         zca_whitening=False,\n",
    "#         rotation_range=10,\n",
    "#         zoom_range = 0.1, \n",
    "#         width_shift_range=0.1,\n",
    "#         height_shift_range=0.1,\n",
    "#         horizontal_flip=False,  #could be made true , as it says image flipping about y axis is not allowed\n",
    "#         vertical_flip=False)\n",
    "\n",
    "# datagen.fit(x_train) "
   ]
  },
  {
   "cell_type": "code",
   "execution_count": 336,
   "metadata": {
    "execution": {
     "iopub.execute_input": "2023-04-17T23:39:33.663046Z",
     "iopub.status.busy": "2023-04-17T23:39:33.662667Z",
     "iopub.status.idle": "2023-04-17T23:39:33.670503Z",
     "shell.execute_reply": "2023-04-17T23:39:33.669560Z",
     "shell.execute_reply.started": "2023-04-17T23:39:33.663011Z"
    }
   },
   "outputs": [],
   "source": [
    "learning_rate_reduction = ReduceLROnPlateau(monitor='val_accuracy', patience = 2, verbose=1,factor=0.5, min_lr=0.00001)\n"
   ]
  },
  {
   "cell_type": "code",
   "execution_count": 337,
   "metadata": {
    "execution": {
     "iopub.execute_input": "2023-04-17T23:39:33.672502Z",
     "iopub.status.busy": "2023-04-17T23:39:33.671975Z",
     "iopub.status.idle": "2023-04-17T23:39:33.679755Z",
     "shell.execute_reply": "2023-04-17T23:39:33.678733Z",
     "shell.execute_reply.started": "2023-04-17T23:39:33.672465Z"
    }
   },
   "outputs": [],
   "source": [
    "from keras.models import Sequential\n",
    "from keras.layers import Conv2D, MaxPooling2D, Flatten, Dense\n"
   ]
  },
  {
   "cell_type": "code",
   "execution_count": 338,
   "metadata": {
    "execution": {
     "iopub.execute_input": "2023-04-17T23:39:33.681651Z",
     "iopub.status.busy": "2023-04-17T23:39:33.681208Z",
     "iopub.status.idle": "2023-04-17T23:39:33.689593Z",
     "shell.execute_reply": "2023-04-17T23:39:33.688605Z",
     "shell.execute_reply.started": "2023-04-17T23:39:33.681614Z"
    }
   },
   "outputs": [],
   "source": [
    "# model = Sequential()\n",
    "# model.add(Conv2D(75 , (2,2) , strides = 1 , padding = 'same' , activation = 'relu' , input_shape = (28,28,1)))\n",
    "# # model.add(BatchNormalization())\n",
    "# model.add(MaxPool2D((2,2) , strides = 2 , padding = 'same'))\n",
    "# model.add(Conv2D(50 , (3,3) , strides = 1 , padding = 'same' , activation = 'relu'))\n",
    "# # model.add(Dropout(0.2))\n",
    "# # model.add(BatchNormalization())\n",
    "# model.add(MaxPool2D((2,2) , strides = 2 , padding = 'same'))\n",
    "# model.add(Conv2D(25 , (3,3) , strides = 1 , padding = 'same' , activation = 'relu'))\n",
    "# # model.add(BatchNormalization())\n",
    "# model.add(MaxPool2D((2,2) , strides = 2 , padding = 'same'))\n",
    "# model.add(Flatten())\n",
    "# model.add(Dense(units = 512 , activation = 'relu'))\n",
    "# # model.add(Dropout(0.3))\n",
    "# model.add(Dense(units = 24 , activation = 'softmax'))\n",
    "\n",
    "\n",
    "\n",
    "\n",
    "\n"
   ]
  },
  {
   "cell_type": "markdown",
   "metadata": {},
   "source": [
    "# Trial And Error"
   ]
  },
  {
   "cell_type": "code",
   "execution_count": 339,
   "metadata": {
    "execution": {
     "iopub.execute_input": "2023-04-17T23:39:33.692982Z",
     "iopub.status.busy": "2023-04-17T23:39:33.692636Z",
     "iopub.status.idle": "2023-04-17T23:39:33.703873Z",
     "shell.execute_reply": "2023-04-17T23:39:33.702763Z",
     "shell.execute_reply.started": "2023-04-17T23:39:33.692946Z"
    }
   },
   "outputs": [],
   "source": [
    "\n",
    "\n",
    "# model.add(Conv2D(10, (7, 7) , strides = 1, activation = 'relu' , input_shape = (28,28,1)))\n",
    "# model.add(MaxPool2D((2,2) , strides = 2))\n",
    "# model.add(Conv2D(10, (4, 4) , strides = 1, activation = 'relu'))\n",
    "# model.add(MaxPool2D((2,2) , strides = 2))\n",
    "# model.add(Conv2D(25 , (3,3) , strides = 1, activation = 'relu'))\n",
    "# model.add(Flatten())\n",
    "# model.add(Dense(units = 128 , activation = 'relu'))\n",
    "# model.add(Dense(units = 24 , activation = 'softmax'))"
   ]
  },
  {
   "cell_type": "markdown",
   "metadata": {},
   "source": [
    "# Working Version 1"
   ]
  },
  {
   "cell_type": "code",
   "execution_count": 340,
   "metadata": {
    "execution": {
     "iopub.execute_input": "2023-04-17T23:39:33.707354Z",
     "iopub.status.busy": "2023-04-17T23:39:33.706143Z",
     "iopub.status.idle": "2023-04-17T23:39:33.810722Z",
     "shell.execute_reply": "2023-04-17T23:39:33.809837Z",
     "shell.execute_reply.started": "2023-04-17T23:39:33.707318Z"
    }
   },
   "outputs": [],
   "source": [
    "\n",
    "\n",
    "from tensorflow.keras.models import Sequential\n",
    "from tensorflow.keras.layers import Conv2D, MaxPooling2D, Dropout, Flatten, Dense\n",
    "\n",
    "model = Sequential()\n",
    "\n",
    "model.add(Conv2D(32, (3, 3), activation='relu',padding='same' ,input_shape=(28, 28, 1)))\n",
    "model.add(Conv2D(32, (3, 3), activation='relu' ,padding='same'))\n",
    "model.add(MaxPooling2D(pool_size=(2, 2)))\n",
    "model.add(Dropout(0.25))\n",
    "\n",
    "model.add(Conv2D(64, (3, 3), activation='relu',padding='same'))\n",
    "model.add(Conv2D(64, (3, 3), activation='relu',padding='same'))\n",
    "model.add(MaxPooling2D(pool_size=(2, 2)))\n",
    "model.add(Dropout(0.25))\n",
    "\n",
    "model.add(Conv2D(128, (5, 5), activation='relu',padding='same'))\n",
    "model.add(MaxPooling2D(pool_size=(2, 2)))\n",
    "model.add(Dropout(0.25))\n",
    "\n",
    "\n",
    "\n",
    "model.add(Flatten())\n",
    "model.add(Dense(128, activation='relu'))\n",
    "model.add(Dropout(0.5))\n",
    "\n",
    "model.add(Dense(24, activation='softmax'))\n",
    "\n"
   ]
  },
  {
   "cell_type": "markdown",
   "metadata": {},
   "source": [
    "Working Version 2\n"
   ]
  },
  {
   "cell_type": "code",
   "execution_count": 341,
   "metadata": {
    "execution": {
     "iopub.execute_input": "2023-04-17T23:39:33.816125Z",
     "iopub.status.busy": "2023-04-17T23:39:33.815858Z",
     "iopub.status.idle": "2023-04-17T23:39:33.822519Z",
     "shell.execute_reply": "2023-04-17T23:39:33.821608Z",
     "shell.execute_reply.started": "2023-04-17T23:39:33.816100Z"
    }
   },
   "outputs": [],
   "source": [
    "# from tensorflow.keras.models import Sequential\n",
    "# from tensorflow.keras.layers import Conv2D, MaxPooling2D, Dropout, Flatten, Dense\n",
    "# model = Sequential()\n",
    "\n",
    "# model.add(Conv2D(32, (3, 3), activation='relu',padding='same' ,input_shape=(28, 28, 1)))\n",
    "# model.add(Conv2D(32, (3, 3), activation='relu' ,padding='same'))\n",
    "# model.add(MaxPooling2D(pool_size=(2, 2)))\n",
    "# model.add(Dropout(0.25))\n",
    "\n",
    "# model.add(Conv2D(64, (3, 3), activation='relu',padding='same'))\n",
    "# model.add(Conv2D(64, (3, 3), activation='relu',padding='same'))\n",
    "# model.add(MaxPooling2D(pool_size=(2, 2)))\n",
    "# model.add(Dropout(0.25))\n",
    "\n",
    "# model.add(Conv2D(128, (5, 5), activation='relu',padding='same'))\n",
    "# model.add(MaxPooling2D(pool_size=(2, 2)))\n",
    "# model.add(Dropout(0.25))\n",
    "\n",
    "\n",
    "\n",
    "# model.add(Flatten())\n",
    "# model.add(Dense(256, activation='relu'))\n",
    "# model.add(Dropout(0.5))\n",
    "\n",
    "# model.add(Dense(24, activation='softmax'))"
   ]
  },
  {
   "cell_type": "markdown",
   "metadata": {},
   "source": [
    "# VGG Inspired"
   ]
  },
  {
   "cell_type": "code",
   "execution_count": 342,
   "metadata": {
    "execution": {
     "iopub.execute_input": "2023-04-17T23:39:33.824448Z",
     "iopub.status.busy": "2023-04-17T23:39:33.824083Z",
     "iopub.status.idle": "2023-04-17T23:39:33.831872Z",
     "shell.execute_reply": "2023-04-17T23:39:33.830941Z",
     "shell.execute_reply.started": "2023-04-17T23:39:33.824413Z"
    }
   },
   "outputs": [],
   "source": [
    "\n",
    "# VGG inspired\n",
    "# model = Sequential()\n",
    "\n",
    "# # Block 1\n",
    "# model.add(Conv2D(32, (3, 3), activation='relu', padding='same', input_shape=(28, 28, 1)))\n",
    "# model.add(Conv2D(32, (3, 3), activation='relu', padding='same'))\n",
    "# model.add(MaxPooling2D((2, 2), strides = 2 , padding = 'same')  )\n",
    "\n",
    "# # Block 2\n",
    "# model.add(Conv2D(64, (3, 3), activation='relu', padding='same'))\n",
    "# model.add(Conv2D(64, (3, 3), activation='relu', padding='same'))\n",
    "# model.add(MaxPooling2D((2, 2), strides = 2 , padding = 'same'))\n",
    "\n",
    "# # Block 3\n",
    "# model.add(Conv2D(128, (3, 3), activation='relu', padding='same'))\n",
    "# model.add(Conv2D(128, (3, 3), activation='relu', padding='same'))\n",
    "# model.add(Conv2D(128, (3, 3), activation='relu', padding='same'))\n",
    "# model.add(MaxPooling2D((2, 2), strides = 2 , padding = 'same'))\n",
    "\n",
    "# # Block 4\n",
    "# model.add(Conv2D(256, (3, 3), activation='relu', padding='same'))\n",
    "# model.add(Conv2D(256, (3, 3), activation='relu', padding='same'))\n",
    "# model.add(Conv2D(256, (3, 3), activation='relu', padding='same'))\n",
    "# model.add(MaxPooling2D((2, 2), strides = 2 , padding = 'same'))\n",
    "\n",
    "# # Block 5\n",
    "# model.add(Conv2D(512, (3, 3), activation='relu', padding='same'))\n",
    "# model.add(Conv2D(512, (3, 3), activation='relu', padding='same'))\n",
    "# model.add(Conv2D(512, (3, 3), activation='relu', padding='same'))\n",
    "# model.add(MaxPooling2D((2, 2), strides = 2 , padding = 'same'))\n",
    "\n",
    "# # Flatten and classify\n",
    "# model.add(Flatten())\n",
    "# model.add(Dense(4096, activation='relu'))\n",
    "# model.add(Dense(4096, activation='relu'))\n",
    "# model.add(Dense(24, activation='softmax'))\n",
    "\n",
    "\n"
   ]
  },
  {
   "cell_type": "code",
   "execution_count": 343,
   "metadata": {
    "execution": {
     "iopub.execute_input": "2023-04-17T23:39:33.835080Z",
     "iopub.status.busy": "2023-04-17T23:39:33.834228Z",
     "iopub.status.idle": "2023-04-17T23:40:01.554870Z",
     "shell.execute_reply": "2023-04-17T23:40:01.553862Z",
     "shell.execute_reply.started": "2023-04-17T23:39:33.835044Z"
    },
    "scrolled": true
   },
   "outputs": [
    {
     "name": "stdout",
     "output_type": "stream",
     "text": [
      "Model: \"sequential_10\"\n",
      "_________________________________________________________________\n",
      " Layer (type)                Output Shape              Param #   \n",
      "=================================================================\n",
      " conv2d_50 (Conv2D)          (None, 28, 28, 32)        320       \n",
      "                                                                 \n",
      " conv2d_51 (Conv2D)          (None, 28, 28, 32)        9248      \n",
      "                                                                 \n",
      " max_pooling2d_30 (MaxPoolin  (None, 14, 14, 32)       0         \n",
      " g2D)                                                            \n",
      "                                                                 \n",
      " dropout_40 (Dropout)        (None, 14, 14, 32)        0         \n",
      "                                                                 \n",
      " conv2d_52 (Conv2D)          (None, 14, 14, 64)        18496     \n",
      "                                                                 \n",
      " conv2d_53 (Conv2D)          (None, 14, 14, 64)        36928     \n",
      "                                                                 \n",
      " max_pooling2d_31 (MaxPoolin  (None, 7, 7, 64)         0         \n",
      " g2D)                                                            \n",
      "                                                                 \n",
      " dropout_41 (Dropout)        (None, 7, 7, 64)          0         \n",
      "                                                                 \n",
      " conv2d_54 (Conv2D)          (None, 7, 7, 128)         204928    \n",
      "                                                                 \n",
      " max_pooling2d_32 (MaxPoolin  (None, 3, 3, 128)        0         \n",
      " g2D)                                                            \n",
      "                                                                 \n",
      " dropout_42 (Dropout)        (None, 3, 3, 128)         0         \n",
      "                                                                 \n",
      " flatten_10 (Flatten)        (None, 1152)              0         \n",
      "                                                                 \n",
      " dense_20 (Dense)            (None, 128)               147584    \n",
      "                                                                 \n",
      " dropout_43 (Dropout)        (None, 128)               0         \n",
      "                                                                 \n",
      " dense_21 (Dense)            (None, 24)                3096      \n",
      "                                                                 \n",
      "=================================================================\n",
      "Total params: 420,600\n",
      "Trainable params: 420,600\n",
      "Non-trainable params: 0\n",
      "_________________________________________________________________\n",
      "Epoch 1/6\n"
     ]
    },
    {
     "name": "stderr",
     "output_type": "stream",
     "text": [
      "2023-04-17 23:39:35.085493: E tensorflow/core/grappler/optimizers/meta_optimizer.cc:954] layout failed: INVALID_ARGUMENT: Size of values 0 does not match size of permutation 4 @ fanin shape insequential_10/dropout_40/dropout/SelectV2-2-TransposeNHWCToNCHW-LayoutOptimizer\n"
     ]
    },
    {
     "name": "stdout",
     "output_type": "stream",
     "text": [
      "644/644 [==============================] - 6s 7ms/step - loss: 1.9643 - accuracy: 0.3880 - val_loss: 0.1583 - val_accuracy: 0.9537 - lr: 0.0010\n",
      "Epoch 2/6\n",
      "644/644 [==============================] - 4s 6ms/step - loss: 0.2846 - accuracy: 0.9020 - val_loss: 0.0132 - val_accuracy: 0.9980 - lr: 0.0010\n",
      "Epoch 3/6\n",
      "644/644 [==============================] - 4s 7ms/step - loss: 0.1155 - accuracy: 0.9617 - val_loss: 0.0023 - val_accuracy: 1.0000 - lr: 0.0010\n",
      "Epoch 4/6\n",
      "644/644 [==============================] - 4s 6ms/step - loss: 0.0736 - accuracy: 0.9759 - val_loss: 2.9586e-04 - val_accuracy: 1.0000 - lr: 0.0010\n",
      "Epoch 5/6\n",
      "644/644 [==============================] - ETA: 0s - loss: 0.0549 - accuracy: 0.9832\n",
      "Epoch 5: ReduceLROnPlateau reducing learning rate to 0.0005000000237487257.\n",
      "644/644 [==============================] - 4s 7ms/step - loss: 0.0549 - accuracy: 0.9832 - val_loss: 0.0010 - val_accuracy: 0.9999 - lr: 0.0010\n",
      "Epoch 6/6\n",
      "644/644 [==============================] - 4s 6ms/step - loss: 0.0297 - accuracy: 0.9907 - val_loss: 8.9968e-05 - val_accuracy: 1.0000 - lr: 5.0000e-04\n"
     ]
    }
   ],
   "source": [
    "model.compile(optimizer = 'adam' , loss = 'categorical_crossentropy' , metrics = ['accuracy'])\n",
    "model.summary()\n",
    "\n",
    "history = model.fit(x=x_train,y=y_train ,epochs = 6 , validation_data = (x_val, y_val) , callbacks = [learning_rate_reduction])\n",
    "\n",
    "model.save('CleanerModel.h5')"
   ]
  },
  {
   "cell_type": "code",
   "execution_count": 344,
   "metadata": {
    "execution": {
     "iopub.execute_input": "2023-04-17T23:40:01.556924Z",
     "iopub.status.busy": "2023-04-17T23:40:01.556519Z",
     "iopub.status.idle": "2023-04-17T23:40:01.563663Z",
     "shell.execute_reply": "2023-04-17T23:40:01.562722Z",
     "shell.execute_reply.started": "2023-04-17T23:40:01.556886Z"
    }
   },
   "outputs": [],
   "source": [
    "# n,y_train, batch_size = 128) ,epochs = 20 , validation_data = (x_test, y_test) , callbacks = [learning_rate_reduction])\n",
    "\n",
    "# model.save('VGGmnist.h5')"
   ]
  },
  {
   "cell_type": "code",
   "execution_count": 345,
   "metadata": {
    "execution": {
     "iopub.execute_input": "2023-04-17T23:40:01.567336Z",
     "iopub.status.busy": "2023-04-17T23:40:01.566786Z",
     "iopub.status.idle": "2023-04-17T23:40:01.573490Z",
     "shell.execute_reply": "2023-04-17T23:40:01.572497Z",
     "shell.execute_reply.started": "2023-04-17T23:40:01.567298Z"
    }
   },
   "outputs": [],
   "source": [
    "\n",
    "# #For now model is a black box \n",
    "# model = Sequential()\n",
    "# model.add(Conv2D(75 , (3,3) , strides = 1 , padding = 'same' , activation = 'relu' , input_shape = (28,28,1)))\n",
    "# model.add(BatchNormalization())\n",
    "# model.add(MaxPool2D((2,2) , strides = 2 , padding = 'same'))\n",
    "# model.add(Conv2D(50 , (3,3) , strides = 1 , padding = 'same' , activation = 'relu'))\n",
    "# model.add(Dropout(0.2))\n",
    "# model.add(BatchNormalization())\n",
    "# model.add(MaxPool2D((2,2) , strides = 2 , padding = 'same'))\n",
    "# model.add(Conv2D(25 , (3,3) , strides = 1 , padding = 'same' , activation = 'relu'))\n",
    "# model.add(BatchNormalization())\n",
    "# model.add(MaxPool2D((2,2) , strides = 2 , padding = 'same'))\n",
    "# model.add(Flatten())\n",
    "# model.add(Dense(units = 512 , activation = 'relu'))\n",
    "# model.add(Dropout(0.3))\n",
    "# model.add(Dense(units = 24 , activation = 'softmax'))\n",
    "\n",
    "\n"
   ]
  },
  {
   "cell_type": "code",
   "execution_count": 346,
   "metadata": {
    "execution": {
     "iopub.execute_input": "2023-04-17T23:43:32.388700Z",
     "iopub.status.busy": "2023-04-17T23:43:32.388069Z",
     "iopub.status.idle": "2023-04-17T23:43:33.779569Z",
     "shell.execute_reply": "2023-04-17T23:43:33.778356Z",
     "shell.execute_reply.started": "2023-04-17T23:43:32.388657Z"
    }
   },
   "outputs": [
    {
     "name": "stdout",
     "output_type": "stream",
     "text": [
      "225/225 [==============================] - 1s 3ms/step - loss: 0.0905 - accuracy: 0.9827\n",
      "Test loss: 0.09049014747142792\n",
      "Test accuracy: 0.9827105402946472\n"
     ]
    }
   ],
   "source": [
    "loss, accuracy = model.evaluate(x_test, y_test)\n",
    "print('Test loss:', loss)\n",
    "print('Test accuracy:', accuracy)\n"
   ]
  },
  {
   "cell_type": "code",
   "execution_count": 351,
   "metadata": {
    "execution": {
     "iopub.execute_input": "2023-04-17T23:48:00.665727Z",
     "iopub.status.busy": "2023-04-17T23:48:00.665329Z",
     "iopub.status.idle": "2023-04-17T23:48:01.280923Z",
     "shell.execute_reply": "2023-04-17T23:48:01.279332Z",
     "shell.execute_reply.started": "2023-04-17T23:48:00.665695Z"
    }
   },
   "outputs": [
    {
     "name": "stdout",
     "output_type": "stream",
     "text": [
      "225/225 [==============================] - 0s 2ms/step\n",
      "[[331   0   0   0   0   0   0   0   0   0   0   0   0   0   0   0   0   0\n",
      "    0   0   0   0   0   0]\n",
      " [  0 417   0   0   0   0   0   0   0  15   0   0   0   0   0   0   0   0\n",
      "    0   0   0   0   0   0]\n",
      " [  0   0 310   0   0   0   0   0   0   0   0   0   0   0   0   0   0   0\n",
      "    0   0   0   0   0   0]\n",
      " [  0   0   0 245   0   0   0   0   0   0   0   0   0   0   0   0   0   0\n",
      "    0   0   0   0   0   0]\n",
      " [  0   0   0   0 496   0   0   0   0   0   0   0   0   0   0   0   0   2\n",
      "    0   0   0   0   0   0]\n",
      " [  0   0   0   0   0 247   0   0   0   0   0   0   0   0   0   0   0   0\n",
      "    0   0   0   0   0   0]\n",
      " [  0   0   0   0   0   0 321   0   0   0   0   0   0   0  24   1   0   0\n",
      "    2   0   0   0   0   0]\n",
      " [  0   0   0   0   0   0   0 436   0   0   0   0   0   0   0   0   0   0\n",
      "    0   0   0   0   0   0]\n",
      " [  0   0   0   0   0   0   0   0 288   0   0   0   0   0   0   0   0   0\n",
      "    0   0   0   0   0   0]\n",
      " [  0   0   0   0   0   0   0   0   0 325   0   0   0   0   3   0   0   3\n",
      "    0   0   0   0   0   0]\n",
      " [  0   0   0   0   0   0   0   0   0   0 209   0   0   0   0   0   0   0\n",
      "    0   0   0   0   0   0]\n",
      " [  0   0   0   0   0   0   0   0   0   0   0 391   2   0   0   0   0   1\n",
      "    0   0   0   0   0   0]\n",
      " [  0   0   0   0   0   0   0   0   0   0   0   0 283   0   0   0   0   0\n",
      "    0   8   0   0   0   0]\n",
      " [  0   0   0   0   0   0   0   0   0   0   0   0   0 246   0   0   0   0\n",
      "    0   0   0   0   0   0]\n",
      " [  0   0   0   0   0   0   0   0   0   0   0   0   0   0 347   0   0   0\n",
      "    0   0   0   0   0   0]\n",
      " [  0   0   0   0   0   0   0   0   0   0   0   0   0   0   0 164   0   0\n",
      "    0   0   0   0   0   0]\n",
      " [  0   0   0   0   0   0   0   0   0   0   0   0   0   0   0   0 144   0\n",
      "    0   0   0   0   0   0]\n",
      " [  0   0   0   0   0   0   0   0   0   0   0   0   0   0   0   0   0 246\n",
      "    0   0   0   0   0   0]\n",
      " [  0   0   0   0   0   0  32   4   0   0   0   0   0   0   0   0   0   0\n",
      "  186   0   0   0  26   0]\n",
      " [  0   0   0   0   0   0   0   0   0   1   0   0   0   0   0   0   0   0\n",
      "    0 265   0   0   0   0]\n",
      " [  0   0   0   0   0   0   0   0   0   0   0   0   0   0   0   0   0   0\n",
      "    0   0 346   0   0   0]\n",
      " [  0   0   0   0   0   0   0   0   0   0   0   0   0   0   0   0   0   0\n",
      "    0   0   0 206   0   0]\n",
      " [  0   0   0   0   0   0   0   0   0   0   0   0   0   0   0   0   0   0\n",
      "    0   0   0   0 267   0]\n",
      " [  0   0   0   0   0   0   0   0   0   0   0   0   0   0   0   0   0   0\n",
      "    0   0   0   0   0 332]]\n"
     ]
    }
   ],
   "source": [
    "\n",
    "# Checks\n",
    "\n",
    "# from sklearn.metrics import confusion_matrix\n",
    "# import numpy as np\n",
    "\n",
    "# # predict classes for test data\n",
    "# y_pred = model.predict(x_test)\n",
    "# y_pred_classes = np.argmax(y_pred,axis = 1)\n",
    "# y_test = np.argmax(y_test, axis=1)\n",
    "\n",
    "# # compute confusion matrix\n",
    "# conf_matrix = confusion_matrix(y_test, y_pred_classes)\n",
    "\n",
    "# # print confusion matrix\n",
    "# print(conf_matrix)\n"
   ]
  },
  {
   "cell_type": "code",
   "execution_count": 2,
   "metadata": {},
   "outputs": [
    {
     "data": {
      "text/plain": [
       "Text(0, 0.5, 'Accuracy')"
      ]
     },
     "execution_count": 2,
     "metadata": {},
     "output_type": "execute_result"
    },
    {
     "data": {
      "image/png": "[encoded data removed]",
      "text/plain": [
       "<Figure size 640x480 with 1 Axes>"
      ]
     },
     "metadata": {},
     "output_type": "display_data"
    }
   ],
   "source": [
    "import matplotlib.pyplot as plt\n",
    "\n",
    "#create an array for training accuracy\n",
    "train_accuracy = [0.3880, 0.902, 0.9617, 0.9759, 0.9832, 0.9907]\n",
    "\n",
    "#create an array for validation accuracy\n",
    "val_accuracy = [0.9537, 0.9980, 1.0, 1.0, 0.9999, 1.0]\n",
    "\n",
    "#plot the training and validation accuracy against the number of epochs in the same plot with different colors\n",
    "plt.plot(train_accuracy, color='blue', label='Training Accuracy')\n",
    "plt.plot(val_accuracy, color='red', label='Validation Accuracy')\n",
    "\n",
    "#add legend to the plot\n",
    "plt.legend()\n",
    "\n",
    "#label x axis as number of epochs\n",
    "plt.xlabel('Number of Epochs')\n",
    "\n",
    "#label y axis as accuracy out of 1\n",
    "plt.ylabel('Accuracy')"
   ]
  },
  {
   "cell_type": "code",
   "execution_count": null,
   "metadata": {},
   "outputs": [],
   "source": []
  }
 ],
 "metadata": {
  "kernelspec": {
   "display_name": "Python 3 (ipykernel)",
   "language": "python",
   "name": "python3"
  },
  "language_info": {
   "codemirror_mode": {
    "name": "ipython",
    "version": 3
   },
   "file_extension": ".py",
   "mimetype": "text/x-python",
   "name": "python",
   "nbconvert_exporter": "python",
   "pygments_lexer": "ipython3",
   "version": "3.10.5"
  }
 },
 "nbformat": 4,
 "nbformat_minor": 4
}
