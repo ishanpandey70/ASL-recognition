{
 "cells": [
  {
   "cell_type": "code",
   "execution_count": null,
   "metadata": {
    "id": "ZK5gzoI5SC3n"
   },
   "outputs": [],
   "source": []
  },
  {
   "cell_type": "code",
   "execution_count": 1,
   "metadata": {
    "colab": {
     "base_uri": "https://localhost:8080/"
    },
    "id": "boililP_PAcA",
    "outputId": "540e8343-506c-482c-832a-7e8fa13a43f4"
   },
   "outputs": [],
   "source": [
    "# !python -V\n",
    "# !python -m pip install --upgrade pip"
   ]
  },
  {
   "cell_type": "code",
   "execution_count": 2,
   "metadata": {
    "colab": {
     "base_uri": "https://localhost:8080/"
    },
    "id": "JTbcYUZGPTwU",
    "outputId": "c434a3f8-856d-4cb4-db07-6f502f1baa17"
   },
   "outputs": [],
   "source": [
    "# !pip install opencv-python mediapipe"
   ]
  },
  {
   "cell_type": "code",
   "execution_count": 3,
   "metadata": {
    "id": "sCSF6TOoRtmC"
   },
   "outputs": [],
   "source": [
    "# from IPython.display import display, Javascript\n",
    "# from google.colab.output import eval_js\n",
    "# from base64 import b64decode\n",
    "\n",
    "# def take_photo(filename='photo.jpg', quality=0.8):\n",
    "#   js = Javascript('''\n",
    "#     async function takePhoto(quality) {\n",
    "#       const div = document.createElement('div');\n",
    "#       const capture = document.createElement('button');\n",
    "#       capture.textContent = 'Capture';\n",
    "#       div.appendChild(capture);\n",
    "\n",
    "#       const video = document.createElement('video');\n",
    "#       video.style.display = 'block';\n",
    "#       const stream = await navigator.mediaDevices.getUserMedia({video: true});\n",
    "\n",
    "#       document.body.appendChild(div);\n",
    "#       div.appendChild(video);\n",
    "#       video.srcObject = stream;\n",
    "#       await video.play();\n",
    "\n",
    "#       // Resize the output to fit the video element.\n",
    "#       google.colab.output.setIframeHeight(document.documentElement.scrollHeight, true);\n",
    "\n",
    "#       // Wait for Capture to be clicked.\n",
    "#       await new Promise((resolve) => capture.onclick = resolve);\n",
    "\n",
    "#       const canvas = document.createElement('canvas');\n",
    "#       canvas.width = video.videoWidth;\n",
    "#       canvas.height = video.videoHeight;\n",
    "#       canvas.getContext('2d').drawImage(video, 0, 0);\n",
    "#       stream.getVideoTracks()[0].stop();\n",
    "#       div.remove();\n",
    "#       return canvas.toDataURL('image/jpeg', quality);\n",
    "#     }\n",
    "#     ''')\n",
    "#   display(js)\n",
    "#   data = eval_js('takePhoto({})'.format(quality))\n",
    "#   binary = b64decode(data.split(',')[1])\n",
    "#   with open(filename, 'wb') as f:\n",
    "#     f.write(binary)\n",
    "#   return filename"
   ]
  },
  {
   "cell_type": "code",
   "execution_count": 4,
   "metadata": {
    "colab": {
     "base_uri": "https://localhost:8080/",
     "height": 881
    },
    "id": "_5dCNYezRtmC",
    "outputId": "6692a7c1-39de-475e-c520-d62db7f352c9"
   },
   "outputs": [],
   "source": [
    "  # from IPython.display import Image\n",
    "  # try:\n",
    "  #   filename = take_photo()\n",
    "  #   print('Saved to {}'.format(filename))\n",
    "    \n",
    "  #   # Show the image which was just taken.\n",
    "  #   display(Image(filename))\n",
    "  # except Exception as err:\n",
    "  #   # Errors will be thrown if the user does not have a webcam or if they do not\n",
    "  #   # grant the page permission to access it.\n",
    "  #   print(str(err))"
   ]
  },
  {
   "cell_type": "code",
   "execution_count": 5,
   "metadata": {
    "id": "9phayt4bOSf4"
   },
   "outputs": [],
   "source": [
    "import os\n",
    "import tensorflow as tf\n",
    "import cv2\n",
    "import mediapipe as mp\n",
    "from keras.models import load_model\n",
    "import numpy as np\n",
    "import time\n",
    "import pandas as pd\n",
    "\n",
    "model = load_model('CleanerModel.h5')\n",
    "\n",
    "\n",
    "# model = load_model('CheckerModel.h5') #added augmentations"
   ]
  },
  {
   "cell_type": "code",
   "execution_count": 6,
   "metadata": {
    "colab": {
     "base_uri": "https://localhost:8080/"
    },
    "id": "_LbK5VUjP314",
    "outputId": "7f850204-d410-4c2d-f6b7-c54c9faf3fb7"
   },
   "outputs": [],
   "source": [
    "\n",
    "mphands = mp.solutions.hands\n",
    "hands = mphands.Hands()\n",
    "mp_drawing = mp.solutions.drawing_utils\n",
    "cap = cv2.VideoCapture(0)\n",
    "\n",
    "_, frame = cap.read()\n",
    "# print(frame)\n"
   ]
  },
  {
   "cell_type": "code",
   "execution_count": 7,
   "metadata": {
    "colab": {
     "base_uri": "https://localhost:8080/",
     "height": 235
    },
    "id": "fYFroRtxQQ-L",
    "outputId": "e4d21c12-b6b6-4d13-933f-cdbe749a00ce",
    "scrolled": true
   },
   "outputs": [
    {
     "name": "stdout",
     "output_type": "stream",
     "text": [
      "1/1 [==============================] - 3s 3s/step\n",
      "Predicted Character 2:  H\n",
      "Confidence 2:  26.103338599205017\n",
      "Predicted Character 1:  P\n",
      "Confidence 1:  63.55091333389282\n",
      "Predicted Character 3:  Q\n",
      "Confidence 3:  8.687697350978851\n",
      "Escape hit, closing...\n"
     ]
    }
   ],
   "source": [
    "\n",
    "h, w, c = frame.shape\n",
    "\n",
    "img_counter = 0\n",
    "analysisframe = ''\n",
    "letterpred = ['A', 'B', 'C', 'D', 'E', 'F', 'G', 'H', 'I', 'K', 'L', 'M', 'N', 'O', 'P', 'Q', 'R', 'S', 'T', 'U', 'V', 'W', 'X', 'Y']\n",
    "while True:\n",
    "    _, frame = cap.read()\n",
    "\n",
    "    k = cv2.waitKey(1)\n",
    "    if k%256 == 27:\n",
    "        # ESC pressed\n",
    "        print(\"Escape hit, closing...\")\n",
    "        break\n",
    "    elif k%256 == 32:\n",
    "        # SPACE pressed\n",
    "        analysisframe = frame\n",
    "        showframe = analysisframe\n",
    "        cv2.imshow(\"Frame\", showframe)\n",
    "        framergbanalysis = cv2.cvtColor(analysisframe, cv2.COLOR_BGR2RGB)\n",
    "        resultanalysis = hands.process(framergbanalysis)\n",
    "        hand_landmarksanalysis = resultanalysis.multi_hand_landmarks\n",
    "        if hand_landmarksanalysis:\n",
    "            for handLMsanalysis in hand_landmarksanalysis:\n",
    "                x_max = 0\n",
    "                y_max = 0\n",
    "                x_min = w\n",
    "                y_min = h\n",
    "                for lmanalysis in handLMsanalysis.landmark:\n",
    "                    x, y = int(lmanalysis.x * w), int(lmanalysis.y * h)\n",
    "                    if x > x_max:\n",
    "                        x_max = x\n",
    "                    if x < x_min:\n",
    "                        x_min = x\n",
    "                    if y > y_max:\n",
    "                        y_max = y\n",
    "                    if y < y_min:\n",
    "                        y_min = y\n",
    "                y_min -= 20\n",
    "                y_max += 20\n",
    "                x_min -= 20\n",
    "                x_max += 20 \n",
    "\n",
    "        analysisframe = cv2.cvtColor(analysisframe, cv2.COLOR_BGR2GRAY)\n",
    "        analysisframe = analysisframe[y_min:y_max, x_min:x_max]\n",
    "        analysisframe = cv2.resize(analysisframe,(28,28))\n",
    "\n",
    "\n",
    "        nlist = []\n",
    "        rows,cols = analysisframe.shape\n",
    "        for i in range(rows):\n",
    "            for j in range(cols):\n",
    "                k = analysisframe[i,j]\n",
    "                nlist.append(k)\n",
    "        \n",
    "        datan = pd.DataFrame(nlist).T\n",
    "        colname = []\n",
    "        for val in range(784):\n",
    "            colname.append(val)\n",
    "        datan.columns = colname\n",
    "\n",
    "        pixeldata = datan.values\n",
    "        pixeldata = pixeldata / 255\n",
    "        pixeldata = pixeldata.reshape(-1,28,28,1)\n",
    "        prediction = model.predict(pixeldata)\n",
    "        predarray = np.array(prediction[0])\n",
    "        letter_prediction_dict = {letterpred[i]: predarray[i] for i in range(len(letterpred))}\n",
    "        predarrayordered = sorted(predarray, reverse=True)\n",
    "        high1 = predarrayordered[0]\n",
    "        high2 = predarrayordered[1]\n",
    "        high3 = predarrayordered[2]\n",
    "        for key,value in letter_prediction_dict.items():\n",
    "            if value==high1:\n",
    "                print(\"Predicted Character 1: \", key)\n",
    "                print('Confidence 1: ', 100*value)\n",
    "            elif value==high2:\n",
    "                print(\"Predicted Character 2: \", key)\n",
    "                print('Confidence 2: ', 100*value)\n",
    "            elif value==high3:\n",
    "                print(\"Predicted Character 3: \", key)\n",
    "                print('Confidence 3: ', 100*value)\n",
    "        time.sleep(5)\n",
    "\n",
    "    framergb = cv2.cvtColor(frame, cv2.COLOR_BGR2RGB)\n",
    "    result = hands.process(framergb)\n",
    "    hand_landmarks = result.multi_hand_landmarks\n",
    "    if hand_landmarks:\n",
    "        for handLMs in hand_landmarks:\n",
    "            x_max = 0\n",
    "            y_max = 0\n",
    "            x_min = w\n",
    "            y_min = h\n",
    "            for lm in handLMs.landmark:\n",
    "                x, y = int(lm.x * w), int(lm.y * h)\n",
    "                if x > x_max:\n",
    "                    x_max = x\n",
    "                if x < x_min:\n",
    "                    x_min = x\n",
    "                if y > y_max:\n",
    "                    y_max = y\n",
    "                if y < y_min:\n",
    "                    y_min = y\n",
    "            y_min -= 20\n",
    "            y_max += 20\n",
    "            x_min -= 20\n",
    "            x_max += 20\n",
    "            cv2.rectangle(frame, (x_min, y_min), (x_max, y_max), (0, 255, 0), 2)\n",
    "    cv2.imshow(\"Frame\", frame)\n",
    "\n",
    "cap.release()\n",
    "cv2.destroyAllWindows()"
   ]
  },
  {
   "cell_type": "code",
   "execution_count": null,
   "metadata": {},
   "outputs": [],
   "source": []
  },
  {
   "cell_type": "code",
   "execution_count": null,
   "metadata": {},
   "outputs": [],
   "source": []
  },
  {
   "cell_type": "code",
   "execution_count": null,
   "metadata": {},
   "outputs": [],
   "source": []
  }
 ],
 "metadata": {
  "accelerator": "GPU",
  "colab": {
   "provenance": []
  },
  "gpuClass": "standard",
  "kernelspec": {
   "display_name": "Python 3 (ipykernel)",
   "language": "python",
   "name": "python3"
  },
  "language_info": {
   "codemirror_mode": {
    "name": "ipython",
    "version": 3
   },
   "file_extension": ".py",
   "mimetype": "text/x-python",
   "name": "python",
   "nbconvert_exporter": "python",
   "pygments_lexer": "ipython3",
   "version": "3.10.5"
  }
 },
 "nbformat": 4,
 "nbformat_minor": 1
}
